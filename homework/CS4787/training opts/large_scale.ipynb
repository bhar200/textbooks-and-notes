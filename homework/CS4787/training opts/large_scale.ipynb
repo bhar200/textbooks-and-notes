{
  "cells": [
    {
      "cell_type": "code",
      "execution_count": 2,
      "metadata": {
        "id": "nH8U2z_fqtSY"
      },
      "outputs": [],
      "source": [
        "#!/usr/bin/env python3\n",
        "import os\n",
        "import numpy\n",
        "from numpy import random\n",
        "\n",
        "# import scipy\n",
        "import matplotlib\n",
        "import pickle\n",
        "\n",
        "# matplotlib.use(\"agg\")\n",
        "from matplotlib import pyplot as plt\n",
        "\n",
        "import torch\n",
        "import torchvision\n",
        "\n",
        "# you may wish to import other things like nn\n",
        "from torch.utils.data import DataLoader\n",
        "import torch.nn as nn\n",
        "\n",
        "# hyperparameter settings and other constants\n",
        "batch_size = 100\n",
        "num_classes = 10\n",
        "epochs = 10\n",
        "mnist_input_shape = (28, 28, 1)\n",
        "d1 = 1024\n",
        "d2 = 256\n",
        "alpha = 0.1\n",
        "beta = 0.9\n",
        "alpha_adam = 0.001\n",
        "rho1 = 0.99\n",
        "rho2 = 0.999\n",
        "# end hyperparameter settings\n",
        "\n",
        "\n",
        "# load the MNIST dataset using TensorFlow/Keras\n",
        "def load_MNIST_dataset():\n",
        "    train_dataset = torchvision.datasets.MNIST(\n",
        "        root=\"./data\",\n",
        "        train=True,\n",
        "        transform=torchvision.transforms.ToTensor(),\n",
        "        download=True,\n",
        "    )\n",
        "    test_dataset = torchvision.datasets.MNIST(\n",
        "        root=\"./data\",\n",
        "        train=False,\n",
        "        transform=torchvision.transforms.ToTensor(),\n",
        "        download=False,\n",
        "    )\n",
        "    return (train_dataset, test_dataset)\n",
        "\n",
        "\n",
        "# construct dataloaders for the MNIST dataset\n",
        "#\n",
        "# train_dataset        input train dataset (output of load_MNIST_dataset)\n",
        "# test_dataset         input test dataset (output of load_MNIST_dataset)\n",
        "# batch_size           batch size for training\n",
        "# shuffle_train        boolean: whether to shuffle the training dataset\n",
        "#\n",
        "# returns              tuple of (train_dataloader, test_dataloader)\n",
        "#     each component of the tuple should be a torch.utils.data.DataLoader object\n",
        "#     for the corresponding training set;\n",
        "#     use the specified batch_size and shuffle_train values for the training DataLoader;\n",
        "#     use a batch size of 100 and no shuffling for the test data loader\n",
        "\n",
        "\n",
        "def construct_dataloaders(train_dataset, test_dataset, batch_size, shuffle_train=True):\n",
        "    train_dataloader = DataLoader(\n",
        "        train_dataset, batch_size=batch_size, shuffle=shuffle_train\n",
        "    )\n",
        "    test_dataloader = DataLoader(test_dataset, batch_size=batch_size, shuffle=False)\n",
        "    return train_dataloader, test_dataloader\n",
        "\n",
        "\n",
        "# evaluate a trained model on MNIST data\n",
        "#\n",
        "# dataloader    dataloader of examples to evaluate on\n",
        "# model         trained PyTorch model\n",
        "# loss_fn       loss function (e.g. nn.CrossEntropyLoss)\n",
        "#\n",
        "# returns       tuple of (loss, accuracy), both python floats\n",
        "@torch.no_grad()\n",
        "def evaluate_model(dataloader, model, loss_fn):\n",
        "    model.eval()\n",
        "    loss = correct = total = 0\n",
        "    for inputs, labels in dataloader:\n",
        "        output = model(inputs)\n",
        "        loss += len(labels) * loss_fn(output, labels).item()\n",
        "        correct += sum(torch.argmax(output, dim=1) == labels)\n",
        "        total += output.shape[0]\n",
        "    avg_loss = loss / total\n",
        "    acc = correct / total\n",
        "    return avg_loss, acc\n",
        "\n",
        "\n",
        "def make_fully_connected_model_part1_1():\n",
        "    return nn.Sequential(\n",
        "        nn.Flatten(),\n",
        "        nn.LazyLinear(out_features=1024),\n",
        "        nn.ReLU(),\n",
        "        nn.Linear(in_features=1024, out_features=256),\n",
        "        nn.ReLU(),\n",
        "        nn.Linear(in_features=256, out_features=10),\n",
        "    )\n",
        "\n",
        "    # build a fully connected two-hidden-layer neural network with Batch Norm, as in Part 1.4\n",
        "    # use the default initialization for the parameters provided in PyTorch\n",
        "    # returns   a new model of type nn.Sequential\n",
        "\n",
        "\n",
        "def make_fully_connected_model_part1_4():\n",
        "    return nn.Sequential(\n",
        "        nn.Flatten(),\n",
        "        nn.LazyLinear(out_features=1024),\n",
        "        nn.BatchNorm1d(1024),\n",
        "        nn.ReLU(),\n",
        "        nn.Linear(in_features=1024, out_features=256),\n",
        "        nn.BatchNorm1d(256),\n",
        "        nn.ReLU(),\n",
        "        nn.Linear(in_features=256, out_features=10),\n",
        "    )\n",
        "\n",
        "\n",
        "# build a convolutional neural network, as in Part 3.1\n",
        "# use the default initialization for the parameters provided in PyTorch\n",
        "#\n",
        "# returns   a new model of type nn.Sequential\n",
        "\n",
        "\n",
        "def make_cnn_model_part3_1():\n",
        "    return nn.Sequential(\n",
        "        nn.LazyConv2d(16, (3, 3), 1, 0),\n",
        "        nn.LazyBatchNorm2d(),\n",
        "        nn.ReLU(),\n",
        "        nn.LazyConv2d(16, (3, 3), 1, 0),\n",
        "        nn.LazyBatchNorm2d(),\n",
        "        nn.ReLU(),\n",
        "        nn.MaxPool2d((2, 2)),\n",
        "        nn.LazyConv2d(32, (3, 3), 1, 0),\n",
        "        nn.LazyBatchNorm2d(),\n",
        "        nn.ReLU(),\n",
        "        nn.MaxPool2d((2, 2)),\n",
        "        nn.Flatten(),\n",
        "        nn.LazyLinear(out_features=128),\n",
        "        nn.ReLU(),\n",
        "        nn.Linear(128, 10),\n",
        "    )\n",
        "\n",
        "    # train a neural network on MNIST data\n",
        "    #     be sure to call model.train() before training and model.eval() before evaluating!\n",
        "    #\n",
        "    # train_dataloader   training dataloader\n",
        "    # test_dataloader    test dataloader\n",
        "    # model              dnn model to be trained (training should mutate this)\n",
        "    # loss_fn            loss function\n",
        "    # optimizer          an optimizer that inherits from torch.optim.Optimizer\n",
        "    # epochs             number of epochs to run\n",
        "    # eval_train_stats   boolean; whether to evaluate statistics on training set each epoch\n",
        "    # eval_test_stats    boolean; whether to evaluate statistics on test set each epoch\n",
        "    #\n",
        "    # returns   a tuple of\n",
        "    #   train_loss       an array of length `epochs` containing the training loss after each epoch, or [] if eval_train_stats == False\n",
        "    #   train_acc        an array of length `epochs` containing the training accuracy after each epoch, or [] if eval_train_stats == False\n",
        "    #   test_loss        an array of length `epochs` containing the test loss after each epoch, or [] if eval_test_stats == False\n",
        "    #   test_acc         an array of length `epochs` containing the test accuracy after each epoch, or [] if eval_test_stats == False\n",
        "    #   approx_tr_loss   an array of length `epochs` containing the average training loss of examples processed in this epoch\n",
        "    #   approx_tr_acc    an array of length `epochs` containing the average training accuracy of examples processed in this epoch\n",
        "\n",
        "from tqdm import tqdm\n",
        "def train(\n",
        "    train_dataloader,\n",
        "    test_dataloader,\n",
        "    model,\n",
        "    loss_fn,\n",
        "    optimizer,\n",
        "    epochs,\n",
        "    eval_train_stats=True,\n",
        "    eval_test_stats=True,\n",
        "):\n",
        "    train_loss, train_acc, test_loss, test_acc, approx_tr_loss, approx_tr_acc = (\n",
        "        [],\n",
        "        [],\n",
        "        [],\n",
        "        [],\n",
        "        [],\n",
        "        [],\n",
        "    )\n",
        "    for _ in tqdm(range(epochs)):\n",
        "        model.train()\n",
        "        total_loss = total_correct = total_examples = 0\n",
        "        for batch_input, batch_labels in train_dataloader:\n",
        "            optimizer.zero_grad()\n",
        "            preds = model(batch_input)\n",
        "            loss = loss_fn(preds, batch_labels)\n",
        "            loss.backward()\n",
        "            optimizer.step()\n",
        "            total_loss += len(batch_labels) * loss.item()\n",
        "            total_correct += sum(torch.argmax(preds, dim=1) == batch_labels)\n",
        "            total_examples += len(batch_labels)\n",
        "        approx_tr_loss.append(total_loss / total_examples)\n",
        "        approx_tr_acc.append(total_correct / total_examples)\n",
        "        if eval_train_stats:\n",
        "            loss, acc = evaluate_model(train_dataloader, model, loss_fn)\n",
        "            train_loss.append(loss)\n",
        "            train_acc.append(acc)\n",
        "        if eval_test_stats:\n",
        "            loss, acc = evaluate_model(test_dataloader, model, loss_fn)\n",
        "            test_loss.append(loss)\n",
        "            test_acc.append(acc)\n",
        "    return (train_loss, train_acc, test_loss, test_acc, approx_tr_loss, approx_tr_acc)\n",
        "\n"
      ]
    },
    {
      "cell_type": "code",
      "execution_count": 3,
      "metadata": {
        "colab": {
          "base_uri": "https://localhost:8080/"
        },
        "id": "K8SlIGp-rf2m",
        "outputId": "01b631c9-57f1-4d3a-fef6-a3f1e0e870e5"
      },
      "outputs": [
        {
          "output_type": "stream",
          "name": "stdout",
          "text": [
            "Downloading http://yann.lecun.com/exdb/mnist/train-images-idx3-ubyte.gz\n",
            "Downloading http://yann.lecun.com/exdb/mnist/train-images-idx3-ubyte.gz to ./data/MNIST/raw/train-images-idx3-ubyte.gz\n"
          ]
        },
        {
          "output_type": "stream",
          "name": "stderr",
          "text": [
            "100%|██████████| 9912422/9912422 [00:00<00:00, 139331592.61it/s]"
          ]
        },
        {
          "output_type": "stream",
          "name": "stdout",
          "text": [
            "Extracting ./data/MNIST/raw/train-images-idx3-ubyte.gz to ./data/MNIST/raw\n"
          ]
        },
        {
          "output_type": "stream",
          "name": "stderr",
          "text": [
            "\n"
          ]
        },
        {
          "output_type": "stream",
          "name": "stdout",
          "text": [
            "\n",
            "Downloading http://yann.lecun.com/exdb/mnist/train-labels-idx1-ubyte.gz\n",
            "Downloading http://yann.lecun.com/exdb/mnist/train-labels-idx1-ubyte.gz to ./data/MNIST/raw/train-labels-idx1-ubyte.gz\n"
          ]
        },
        {
          "output_type": "stream",
          "name": "stderr",
          "text": [
            "100%|██████████| 28881/28881 [00:00<00:00, 108156869.49it/s]\n"
          ]
        },
        {
          "output_type": "stream",
          "name": "stdout",
          "text": [
            "Extracting ./data/MNIST/raw/train-labels-idx1-ubyte.gz to ./data/MNIST/raw\n",
            "\n",
            "Downloading http://yann.lecun.com/exdb/mnist/t10k-images-idx3-ubyte.gz\n",
            "Downloading http://yann.lecun.com/exdb/mnist/t10k-images-idx3-ubyte.gz to ./data/MNIST/raw/t10k-images-idx3-ubyte.gz\n"
          ]
        },
        {
          "output_type": "stream",
          "name": "stderr",
          "text": [
            "100%|██████████| 1648877/1648877 [00:00<00:00, 35698976.90it/s]"
          ]
        },
        {
          "output_type": "stream",
          "name": "stdout",
          "text": [
            "Extracting ./data/MNIST/raw/t10k-images-idx3-ubyte.gz to ./data/MNIST/raw\n"
          ]
        },
        {
          "output_type": "stream",
          "name": "stderr",
          "text": [
            "\n"
          ]
        },
        {
          "output_type": "stream",
          "name": "stdout",
          "text": [
            "\n",
            "Downloading http://yann.lecun.com/exdb/mnist/t10k-labels-idx1-ubyte.gz\n",
            "Downloading http://yann.lecun.com/exdb/mnist/t10k-labels-idx1-ubyte.gz to ./data/MNIST/raw/t10k-labels-idx1-ubyte.gz\n"
          ]
        },
        {
          "output_type": "stream",
          "name": "stderr",
          "text": [
            "100%|██████████| 4542/4542 [00:00<00:00, 18057373.24it/s]\n"
          ]
        },
        {
          "output_type": "stream",
          "name": "stdout",
          "text": [
            "Extracting ./data/MNIST/raw/t10k-labels-idx1-ubyte.gz to ./data/MNIST/raw\n",
            "\n"
          ]
        }
      ],
      "source": [
        "(train_dataset, test_dataset) = load_MNIST_dataset()\n",
        "train_dataloader, test_dataloader = construct_dataloaders(\n",
        "    train_dataset, test_dataset, 100\n",
        ")\n"
      ]
    },
    {
      "cell_type": "code",
      "execution_count": null,
      "metadata": {
        "colab": {
          "background_save": true,
          "base_uri": "https://localhost:8080/"
        },
        "id": "sXQt_5OzrgKo",
        "outputId": "334d38b9-6411-4ec7-a9a1-76cebb5167af"
      },
      "outputs": [
        {
          "name": "stderr",
          "output_type": "stream",
          "text": [
            "/usr/local/lib/python3.10/dist-packages/torch/nn/modules/lazy.py:180: UserWarning: Lazy modules are a new feature under heavy development so changes to the API or functionality can happen at any moment.\n",
            "  warnings.warn('Lazy modules are a new feature under heavy development '\n",
            "100%|██████████| 10/10 [04:45<00:00, 28.54s/it]\n"
          ]
        },
        {
          "name": "stdout",
          "output_type": "stream",
          "text": [
            "Learning Rate: 1.0\n",
            "Val Loss: 2.3252865505218505, Val Accuracy: 0.10279999673366547\n",
            "Moving on to next one...\n"
          ]
        },
        {
          "name": "stderr",
          "output_type": "stream",
          "text": [
            "100%|██████████| 10/10 [04:10<00:00, 25.00s/it]\n"
          ]
        },
        {
          "name": "stdout",
          "output_type": "stream",
          "text": [
            "Learning Rate: 0.3\n",
            "Val Loss: 0.14741767410472675, Val Accuracy: 0.9682999849319458\n",
            "Moving on to next one...\n"
          ]
        },
        {
          "name": "stderr",
          "output_type": "stream",
          "text": [
            "100%|██████████| 10/10 [03:32<00:00, 21.21s/it]\n"
          ]
        },
        {
          "name": "stdout",
          "output_type": "stream",
          "text": [
            "Learning Rate: 0.1\n",
            "Val Loss: 0.06442476138630354, Val Accuracy: 0.9836999773979187\n",
            "Moving on to next one...\n"
          ]
        },
        {
          "name": "stderr",
          "output_type": "stream",
          "text": [
            "100%|██████████| 10/10 [03:17<00:00, 19.76s/it]\n"
          ]
        },
        {
          "name": "stdout",
          "output_type": "stream",
          "text": [
            "Learning Rate: 0.03\n",
            "Val Loss: 0.0655407006772748, Val Accuracy: 0.9818000197410583\n",
            "Moving on to next one...\n"
          ]
        },
        {
          "name": "stderr",
          "output_type": "stream",
          "text": [
            "100%|██████████| 10/10 [03:16<00:00, 19.68s/it]\n"
          ]
        },
        {
          "name": "stdout",
          "output_type": "stream",
          "text": [
            "Learning Rate: 0.01\n",
            "Val Loss: 0.06534248367184774, Val Accuracy: 0.9801999926567078\n",
            "Moving on to next one...\n"
          ]
        },
        {
          "name": "stderr",
          "output_type": "stream",
          "text": [
            "100%|██████████| 10/10 [03:13<00:00, 19.34s/it]\n"
          ]
        },
        {
          "name": "stdout",
          "output_type": "stream",
          "text": [
            "Learning Rate: 0.003\n",
            "Val Loss: 0.1296159452246502, Val Accuracy: 0.961899995803833\n",
            "Moving on to next one...\n"
          ]
        },
        {
          "name": "stderr",
          "output_type": "stream",
          "text": [
            "100%|██████████| 10/10 [03:07<00:00, 18.70s/it]\n"
          ]
        },
        {
          "name": "stdout",
          "output_type": "stream",
          "text": [
            "Learning Rate: 0.001\n",
            "Val Loss: 0.2455887557566166, Val Accuracy: 0.9305999875068665\n",
            "Moving on to next one...\n"
          ]
        }
      ],
      "source": [
        "# SGD with Momentum\n",
        "epochs = 10\n",
        "lrs = [1.0,0.3,0.1,0.03,0.01,0.003,0.001]\n",
        "for lr in lrs:\n",
        "  model_1_2 = make_fully_connected_model_part1_1()\n",
        "  cross_entropy = nn.CrossEntropyLoss()\n",
        "  momentum_opt = torch.optim.SGD(model_1_2.parameters(), lr=lr, momentum=0.9)\n",
        "  train_loss, train_acc, test_loss, test_acc, approx_tr_loss, approx_tr_acc = train(\n",
        "      train_dataloader, test_dataloader, model_1_2, cross_entropy, momentum_opt, epochs,\n",
        "      eval_train_stats=False,\n",
        "    eval_test_stats=False,\n",
        "  )\n",
        "  test_loss, test_acc = evaluate_model(test_dataloader, model_1_2, cross_entropy)\n",
        "  print(f'Learning Rate: {lr}')\n",
        "  print(f'Val Loss: {test_loss}, Val Accuracy: {test_acc}')\n",
        "  print(f'Moving on to next one...')\n",
        "\n"
      ]
    },
    {
      "cell_type": "code",
      "execution_count": 5,
      "metadata": {
        "id": "xw8pdusn4FQF"
      },
      "outputs": [],
      "source": [
        "def batch_norm(width = 1024, narrow_width = 256):\n",
        "    return torch.nn.Sequential(\n",
        "        torch.nn.Flatten(),\n",
        "        torch.nn.LazyLinear(out_features=width),\n",
        "        torch.nn.BatchNorm1d(width),\n",
        "        torch.nn.ReLU(),\n",
        "        torch.nn.Linear(in_features=width, out_features=narrow_width),\n",
        "        torch.nn.BatchNorm1d(narrow_width),\n",
        "        torch.nn.ReLU(),\n",
        "        torch.nn.Linear(in_features=narrow_width, out_features=10),\n",
        "\t\ttorch.nn.BatchNorm1d(10)\n",
        "    )\n"
      ]
    },
    {
      "cell_type": "code",
      "source": [
        "# Perform random search\n",
        "best_score = float('-inf')\n",
        "best_hyperparameters = None\n",
        "num_trials = 10\n",
        "lr_bound = [0,0.1]\n",
        "beta_bound = [0.8,1]\n",
        "width_bound = [512, 2048]\n",
        "narrow_bound = [128, 512]\n",
        "from time import time\n",
        "start = time()\n",
        "\n",
        "for _ in range(num_trials):\n",
        "    learning_rate = random.uniform(lr_bound[0],lr_bound[1])\n",
        "    beta = random.uniform(beta_bound[0],beta_bound[1])\n",
        "    width = random.randint(width_bound[0],width_bound[1])\n",
        "    narrow = random.randint(narrow_bound[0],narrow_bound[1])\n",
        "    model_1_4 = batch_norm(width=width, narrow_width=narrow)\n",
        "    cross_entropy = torch.nn.CrossEntropyLoss()\n",
        "    momentum_opt = torch.optim.SGD(\n",
        "        model_1_4.parameters(), lr=learning_rate, momentum=beta)\n",
        "    train_loss, train_acc, test_loss, test_acc, approx_tr_loss, approx_tr_acc = train(\n",
        "        train_dataloader, test_dataloader, model_1_4, cross_entropy, momentum_opt, epochs,\n",
        "          eval_train_stats=False,\n",
        "      eval_test_stats=False,\n",
        "    )\n",
        "    test_loss, test_acc = evaluate_model(test_dataloader, model_1_4, cross_entropy)\n",
        "    print(f'lr: {learning_rate}, beta: {beta}, width: {width}, narrow: {narrow}')\n",
        "    print(f'Val Loss: {test_loss}, Val Accuracy: {test_acc}')\n",
        "    print(f'Moving on to next one...')\n",
        "\n",
        "    if test_acc > best_score:\n",
        "        best_score = test_acc\n",
        "        best_hyperparameters = (learning_rate, beta, width, narrow)\n",
        "final = time()\n",
        "difference = final - start\n",
        "print(time)\n",
        "print(\"Best hyperparameters:\")\n",
        "print(\"Learning Rate:\", best_hyperparameters[0])\n",
        "print(\"Beta:\", best_hyperparameters[1])\n",
        "print(\"Width:\", best_hyperparameters[2])\n",
        "print(\"Narrow:\", best_hyperparameters[3])\n"
      ],
      "metadata": {
        "id": "5rOHSu-nzQBs",
        "outputId": "9b7cb89b-84e6-486b-8ded-e653f3c99348",
        "colab": {
          "base_uri": "https://localhost:8080/"
        }
      },
      "execution_count": 9,
      "outputs": [
        {
          "output_type": "stream",
          "name": "stderr",
          "text": [
            "/usr/local/lib/python3.10/dist-packages/torch/nn/modules/lazy.py:180: UserWarning: Lazy modules are a new feature under heavy development so changes to the API or functionality can happen at any moment.\n",
            "  warnings.warn('Lazy modules are a new feature under heavy development '\n",
            "100%|██████████| 10/10 [02:12<00:00, 13.23s/it]\n"
          ]
        },
        {
          "output_type": "stream",
          "name": "stdout",
          "text": [
            "lr: 0.01674814374014366, beta: 0.9834734024541815, width: 1293, narrow: 170\n",
            "Val Loss: 0.05530764216899115, Val Accuracy: 0.9857000112533569\n",
            "Moving on to next one...\n"
          ]
        },
        {
          "output_type": "stream",
          "name": "stderr",
          "text": [
            "100%|██████████| 10/10 [02:50<00:00, 17.04s/it]\n"
          ]
        },
        {
          "output_type": "stream",
          "name": "stdout",
          "text": [
            "lr: 0.042571575457360025, beta: 0.81840533445735, width: 1547, narrow: 348\n",
            "Val Loss: 0.051586740053026006, Val Accuracy: 0.9855999946594238\n",
            "Moving on to next one...\n"
          ]
        },
        {
          "output_type": "stream",
          "name": "stderr",
          "text": [
            "100%|██████████| 10/10 [01:56<00:00, 11.64s/it]\n"
          ]
        },
        {
          "output_type": "stream",
          "name": "stdout",
          "text": [
            "lr: 0.06093236661340029, beta: 0.8386568249043684, width: 692, narrow: 355\n",
            "Val Loss: 0.049467295781651044, Val Accuracy: 0.986299991607666\n",
            "Moving on to next one...\n"
          ]
        },
        {
          "output_type": "stream",
          "name": "stderr",
          "text": [
            "100%|██████████| 10/10 [02:37<00:00, 15.79s/it]\n"
          ]
        },
        {
          "output_type": "stream",
          "name": "stdout",
          "text": [
            "lr: 0.07341698833516962, beta: 0.8410073829111946, width: 1616, narrow: 164\n",
            "Val Loss: 0.048631352997472274, Val Accuracy: 0.9854000210762024\n",
            "Moving on to next one...\n"
          ]
        },
        {
          "output_type": "stream",
          "name": "stderr",
          "text": [
            "100%|██████████| 10/10 [01:56<00:00, 11.69s/it]\n"
          ]
        },
        {
          "output_type": "stream",
          "name": "stdout",
          "text": [
            "lr: 0.09507807065112249, beta: 0.803889418856422, width: 588, narrow: 392\n",
            "Val Loss: 0.054211344709183325, Val Accuracy: 0.9843000173568726\n",
            "Moving on to next one...\n"
          ]
        },
        {
          "output_type": "stream",
          "name": "stderr",
          "text": [
            "100%|██████████| 10/10 [02:20<00:00, 14.09s/it]\n"
          ]
        },
        {
          "output_type": "stream",
          "name": "stdout",
          "text": [
            "lr: 0.027602412978517434, beta: 0.8708177121189624, width: 1086, narrow: 334\n",
            "Val Loss: 0.049394558702479115, Val Accuracy: 0.9848999977111816\n",
            "Moving on to next one...\n"
          ]
        },
        {
          "output_type": "stream",
          "name": "stderr",
          "text": [
            "100%|██████████| 10/10 [02:08<00:00, 12.86s/it]\n"
          ]
        },
        {
          "output_type": "stream",
          "name": "stdout",
          "text": [
            "lr: 0.015113245287413491, beta: 0.8508672785548237, width: 850, narrow: 348\n",
            "Val Loss: 0.04992826288915239, Val Accuracy: 0.9855999946594238\n",
            "Moving on to next one...\n"
          ]
        },
        {
          "output_type": "stream",
          "name": "stderr",
          "text": [
            "100%|██████████| 10/10 [02:46<00:00, 16.65s/it]\n"
          ]
        },
        {
          "output_type": "stream",
          "name": "stdout",
          "text": [
            "lr: 0.06414799715802426, beta: 0.972671549222937, width: 1650, narrow: 260\n",
            "Val Loss: 0.05369049780962087, Val Accuracy: 0.984499990940094\n",
            "Moving on to next one...\n"
          ]
        },
        {
          "output_type": "stream",
          "name": "stderr",
          "text": [
            "100%|██████████| 10/10 [02:04<00:00, 12.40s/it]\n"
          ]
        },
        {
          "output_type": "stream",
          "name": "stdout",
          "text": [
            "lr: 0.023120842423648636, beta: 0.912110449445107, width: 843, narrow: 323\n",
            "Val Loss: 0.04360672566312132, Val Accuracy: 0.9866999983787537\n",
            "Moving on to next one...\n"
          ]
        },
        {
          "output_type": "stream",
          "name": "stderr",
          "text": [
            "100%|██████████| 10/10 [01:45<00:00, 10.58s/it]\n"
          ]
        },
        {
          "output_type": "stream",
          "name": "stdout",
          "text": [
            "lr: 0.0017033288965179084, beta: 0.9359535177919398, width: 527, narrow: 355\n",
            "Val Loss: 0.062222722796723244, Val Accuracy: 0.9829000234603882\n",
            "Moving on to next one...\n",
            "<built-in function time>\n",
            "Best hyperparameters:\n",
            "Learning Rate: 0.023120842423648636\n",
            "Beta: 0.912110449445107\n",
            "Width: 843\n",
            "Narrow: 323\n"
          ]
        }
      ]
    },
    {
      "cell_type": "code",
      "source": [
        "print(f'Time: {difference}')"
      ],
      "metadata": {
        "id": "ALPY1LZrA7UH",
        "outputId": "4fa4a84c-1ca6-4d52-d4f3-1b03ce0cbcab",
        "colab": {
          "base_uri": "https://localhost:8080/"
        }
      },
      "execution_count": 13,
      "outputs": [
        {
          "output_type": "stream",
          "name": "stdout",
          "text": [
            "Time: 1374.897782087326\n"
          ]
        }
      ]
    },
    {
      "cell_type": "code",
      "execution_count": null,
      "metadata": {
        "colab": {
          "background_save": true
        },
        "id": "sEB-lvtms35Y",
        "outputId": "bb951d32-f8a3-4387-f099-0127843abe02"
      },
      "outputs": [
        {
          "name": "stderr",
          "output_type": "stream",
          "text": [
            "/usr/local/lib/python3.10/dist-packages/torch/nn/modules/lazy.py:180: UserWarning: Lazy modules are a new feature under heavy development so changes to the API or functionality can happen at any moment.\n",
            "  warnings.warn('Lazy modules are a new feature under heavy development '\n",
            "100%|██████████| 10/10 [10:08<00:00, 60.86s/it]\n"
          ]
        },
        {
          "name": "stdout",
          "output_type": "stream",
          "text": [
            "beta: 0.95, width: 4096, narrow: 512\n",
            "Val Loss: 0.06053978884592652, Val Accuracy: 0.9832000136375427\n",
            "Moving on to next one...\n"
          ]
        },
        {
          "name": "stderr",
          "output_type": "stream",
          "text": [
            "100%|██████████| 10/10 [07:36<00:00, 45.66s/it]\n"
          ]
        },
        {
          "name": "stdout",
          "output_type": "stream",
          "text": [
            "beta: 0.95, width: 4096, narrow: 256\n",
            "Val Loss: 0.059152940274216234, Val Accuracy: 0.9843999743461609\n",
            "Moving on to next one...\n"
          ]
        },
        {
          "name": "stderr",
          "output_type": "stream",
          "text": [
            "100%|██████████| 10/10 [06:48<00:00, 40.86s/it]\n"
          ]
        },
        {
          "name": "stdout",
          "output_type": "stream",
          "text": [
            "beta: 0.95, width: 4096, narrow: 128\n",
            "Val Loss: 0.05705431597307324, Val Accuracy: 0.984499990940094\n",
            "Moving on to next one...\n"
          ]
        },
        {
          "name": "stderr",
          "output_type": "stream",
          "text": [
            "100%|██████████| 10/10 [06:35<00:00, 39.55s/it]\n"
          ]
        },
        {
          "name": "stdout",
          "output_type": "stream",
          "text": [
            "beta: 0.95, width: 4096, narrow: 64\n",
            "Val Loss: 0.06343436273280531, Val Accuracy: 0.9836999773979187\n",
            "Moving on to next one...\n"
          ]
        },
        {
          "name": "stderr",
          "output_type": "stream",
          "text": [
            "100%|██████████| 10/10 [05:27<00:00, 32.80s/it]\n"
          ]
        },
        {
          "name": "stdout",
          "output_type": "stream",
          "text": [
            "beta: 0.95, width: 2048, narrow: 512\n",
            "Val Loss: 0.060285219098441305, Val Accuracy: 0.9851999878883362\n",
            "Moving on to next one...\n"
          ]
        },
        {
          "name": "stderr",
          "output_type": "stream",
          "text": [
            "100%|██████████| 10/10 [04:38<00:00, 27.81s/it]\n"
          ]
        },
        {
          "name": "stdout",
          "output_type": "stream",
          "text": [
            "beta: 0.95, width: 2048, narrow: 256\n",
            "Val Loss: 0.06125199325848371, Val Accuracy: 0.984499990940094\n",
            "Moving on to next one...\n"
          ]
        },
        {
          "name": "stderr",
          "output_type": "stream",
          "text": [
            "100%|██████████| 10/10 [04:21<00:00, 26.13s/it]\n"
          ]
        },
        {
          "name": "stdout",
          "output_type": "stream",
          "text": [
            "beta: 0.95, width: 2048, narrow: 128\n",
            "Val Loss: 0.06061399092897773, Val Accuracy: 0.9847999811172485\n",
            "Moving on to next one...\n"
          ]
        },
        {
          "name": "stderr",
          "output_type": "stream",
          "text": [
            "100%|██████████| 10/10 [04:10<00:00, 25.09s/it]\n"
          ]
        },
        {
          "name": "stdout",
          "output_type": "stream",
          "text": [
            "beta: 0.95, width: 2048, narrow: 64\n",
            "Val Loss: 0.06357972434721887, Val Accuracy: 0.9822999835014343\n",
            "Moving on to next one...\n"
          ]
        },
        {
          "name": "stderr",
          "output_type": "stream",
          "text": [
            "100%|██████████| 10/10 [03:41<00:00, 22.16s/it]\n"
          ]
        },
        {
          "name": "stdout",
          "output_type": "stream",
          "text": [
            "beta: 0.95, width: 1024, narrow: 512\n",
            "Val Loss: 0.06386022735852748, Val Accuracy: 0.9825999736785889\n",
            "Moving on to next one...\n"
          ]
        },
        {
          "name": "stderr",
          "output_type": "stream",
          "text": [
            "100%|██████████| 10/10 [03:12<00:00, 19.26s/it]\n"
          ]
        },
        {
          "name": "stdout",
          "output_type": "stream",
          "text": [
            "beta: 0.95, width: 1024, narrow: 256\n",
            "Val Loss: 0.06453188241925091, Val Accuracy: 0.9832000136375427\n",
            "Moving on to next one...\n"
          ]
        },
        {
          "name": "stderr",
          "output_type": "stream",
          "text": [
            "100%|██████████| 10/10 [03:04<00:00, 18.47s/it]\n"
          ]
        },
        {
          "name": "stdout",
          "output_type": "stream",
          "text": [
            "beta: 0.95, width: 1024, narrow: 128\n",
            "Val Loss: 0.06495889911893755, Val Accuracy: 0.983299970626831\n",
            "Moving on to next one...\n"
          ]
        },
        {
          "name": "stderr",
          "output_type": "stream",
          "text": [
            "100%|██████████| 10/10 [03:03<00:00, 18.30s/it]\n"
          ]
        },
        {
          "name": "stdout",
          "output_type": "stream",
          "text": [
            "beta: 0.95, width: 1024, narrow: 64\n",
            "Val Loss: 0.06675260317046196, Val Accuracy: 0.9815999865531921\n",
            "Moving on to next one...\n"
          ]
        },
        {
          "name": "stderr",
          "output_type": "stream",
          "text": [
            "100%|██████████| 10/10 [02:51<00:00, 17.14s/it]\n"
          ]
        },
        {
          "name": "stdout",
          "output_type": "stream",
          "text": [
            "beta: 0.95, width: 512, narrow: 512\n",
            "Val Loss: 0.06244891137350351, Val Accuracy: 0.9839000105857849\n",
            "Moving on to next one...\n"
          ]
        },
        {
          "name": "stderr",
          "output_type": "stream",
          "text": [
            "100%|██████████| 10/10 [02:35<00:00, 15.53s/it]\n"
          ]
        },
        {
          "name": "stdout",
          "output_type": "stream",
          "text": [
            "beta: 0.95, width: 512, narrow: 256\n",
            "Val Loss: 0.061620734822936354, Val Accuracy: 0.9847999811172485\n",
            "Moving on to next one...\n"
          ]
        },
        {
          "name": "stderr",
          "output_type": "stream",
          "text": [
            "100%|██████████| 10/10 [02:27<00:00, 14.74s/it]\n"
          ]
        },
        {
          "name": "stdout",
          "output_type": "stream",
          "text": [
            "beta: 0.95, width: 512, narrow: 128\n",
            "Val Loss: 0.06846960379742086, Val Accuracy: 0.982699990272522\n",
            "Moving on to next one...\n"
          ]
        },
        {
          "name": "stderr",
          "output_type": "stream",
          "text": [
            "100%|██████████| 10/10 [02:24<00:00, 14.49s/it]\n"
          ]
        },
        {
          "name": "stdout",
          "output_type": "stream",
          "text": [
            "beta: 0.95, width: 512, narrow: 64\n",
            "Val Loss: 0.06637632611673325, Val Accuracy: 0.9821000099182129\n",
            "Moving on to next one...\n"
          ]
        },
        {
          "name": "stderr",
          "output_type": "stream",
          "text": [
            "100%|██████████| 10/10 [09:12<00:00, 55.26s/it]\n"
          ]
        },
        {
          "name": "stdout",
          "output_type": "stream",
          "text": [
            "beta: 0.9, width: 4096, narrow: 512\n",
            "Val Loss: 0.07413634128868579, Val Accuracy: 0.984000027179718\n",
            "Moving on to next one...\n"
          ]
        },
        {
          "name": "stderr",
          "output_type": "stream",
          "text": [
            "100%|██████████| 10/10 [07:48<00:00, 46.83s/it]\n"
          ]
        },
        {
          "name": "stdout",
          "output_type": "stream",
          "text": [
            "beta: 0.9, width: 4096, narrow: 256\n",
            "Val Loss: 0.07466410583816468, Val Accuracy: 0.9829000234603882\n",
            "Moving on to next one...\n"
          ]
        },
        {
          "name": "stderr",
          "output_type": "stream",
          "text": [
            "100%|██████████| 10/10 [06:54<00:00, 41.42s/it]\n"
          ]
        },
        {
          "name": "stdout",
          "output_type": "stream",
          "text": [
            "beta: 0.9, width: 4096, narrow: 128\n",
            "Val Loss: 0.07545837223529815, Val Accuracy: 0.9821000099182129\n",
            "Moving on to next one...\n"
          ]
        },
        {
          "name": "stderr",
          "output_type": "stream",
          "text": [
            "100%|██████████| 10/10 [06:33<00:00, 39.32s/it]\n"
          ]
        },
        {
          "name": "stdout",
          "output_type": "stream",
          "text": [
            "beta: 0.9, width: 4096, narrow: 64\n",
            "Val Loss: 0.07614178190007806, Val Accuracy: 0.9815999865531921\n",
            "Moving on to next one...\n"
          ]
        },
        {
          "name": "stderr",
          "output_type": "stream",
          "text": [
            "100%|██████████| 10/10 [05:30<00:00, 33.07s/it]\n"
          ]
        },
        {
          "name": "stdout",
          "output_type": "stream",
          "text": [
            "beta: 0.9, width: 2048, narrow: 512\n",
            "Val Loss: 0.07857122071087361, Val Accuracy: 0.9828000068664551\n",
            "Moving on to next one...\n"
          ]
        },
        {
          "name": "stderr",
          "output_type": "stream",
          "text": [
            "100%|██████████| 10/10 [04:40<00:00, 28.08s/it]\n"
          ]
        },
        {
          "name": "stdout",
          "output_type": "stream",
          "text": [
            "beta: 0.9, width: 2048, narrow: 256\n",
            "Val Loss: 0.07811137652955949, Val Accuracy: 0.9804999828338623\n",
            "Moving on to next one...\n"
          ]
        },
        {
          "name": "stderr",
          "output_type": "stream",
          "text": [
            "100%|██████████| 10/10 [04:20<00:00, 26.03s/it]\n"
          ]
        },
        {
          "name": "stdout",
          "output_type": "stream",
          "text": [
            "beta: 0.9, width: 2048, narrow: 128\n",
            "Val Loss: 0.07987643690779805, Val Accuracy: 0.9818000197410583\n",
            "Moving on to next one...\n"
          ]
        },
        {
          "name": "stderr",
          "output_type": "stream",
          "text": [
            "100%|██████████| 10/10 [04:19<00:00, 25.93s/it]\n"
          ]
        },
        {
          "name": "stdout",
          "output_type": "stream",
          "text": [
            "beta: 0.9, width: 2048, narrow: 64\n",
            "Val Loss: 0.08065251032821834, Val Accuracy: 0.9807999730110168\n",
            "Moving on to next one...\n"
          ]
        },
        {
          "name": "stderr",
          "output_type": "stream",
          "text": [
            "100%|██████████| 10/10 [03:50<00:00, 23.03s/it]\n"
          ]
        },
        {
          "name": "stdout",
          "output_type": "stream",
          "text": [
            "beta: 0.9, width: 1024, narrow: 512\n",
            "Val Loss: 0.07792651490308344, Val Accuracy: 0.9835000038146973\n",
            "Moving on to next one...\n"
          ]
        },
        {
          "name": "stderr",
          "output_type": "stream",
          "text": [
            "100%|██████████| 10/10 [03:20<00:00, 20.03s/it]\n"
          ]
        },
        {
          "name": "stdout",
          "output_type": "stream",
          "text": [
            "beta: 0.9, width: 1024, narrow: 256\n",
            "Val Loss: 0.07979533201083541, Val Accuracy: 0.9812999963760376\n",
            "Moving on to next one...\n"
          ]
        },
        {
          "name": "stderr",
          "output_type": "stream",
          "text": [
            "100%|██████████| 10/10 [03:03<00:00, 18.31s/it]\n"
          ]
        },
        {
          "name": "stdout",
          "output_type": "stream",
          "text": [
            "beta: 0.9, width: 1024, narrow: 128\n",
            "Val Loss: 0.07965950782410801, Val Accuracy: 0.9824000000953674\n",
            "Moving on to next one...\n"
          ]
        },
        {
          "name": "stderr",
          "output_type": "stream",
          "text": [
            "100%|██████████| 10/10 [02:57<00:00, 17.74s/it]\n"
          ]
        },
        {
          "name": "stdout",
          "output_type": "stream",
          "text": [
            "beta: 0.9, width: 1024, narrow: 64\n",
            "Val Loss: 0.0826896638981998, Val Accuracy: 0.980400025844574\n",
            "Moving on to next one...\n"
          ]
        },
        {
          "name": "stderr",
          "output_type": "stream",
          "text": [
            "100%|██████████| 10/10 [02:48<00:00, 16.86s/it]\n"
          ]
        },
        {
          "name": "stdout",
          "output_type": "stream",
          "text": [
            "beta: 0.9, width: 512, narrow: 512\n",
            "Val Loss: 0.08080509747378528, Val Accuracy: 0.9815999865531921\n",
            "Moving on to next one...\n"
          ]
        },
        {
          "name": "stderr",
          "output_type": "stream",
          "text": [
            "100%|██████████| 10/10 [02:34<00:00, 15.47s/it]\n"
          ]
        },
        {
          "name": "stdout",
          "output_type": "stream",
          "text": [
            "beta: 0.9, width: 512, narrow: 256\n",
            "Val Loss: 0.08322364912368357, Val Accuracy: 0.9805999994277954\n",
            "Moving on to next one...\n"
          ]
        },
        {
          "name": "stderr",
          "output_type": "stream",
          "text": [
            "100%|██████████| 10/10 [02:28<00:00, 14.81s/it]\n"
          ]
        },
        {
          "name": "stdout",
          "output_type": "stream",
          "text": [
            "beta: 0.9, width: 512, narrow: 128\n",
            "Val Loss: 0.08598860112950206, Val Accuracy: 0.9799000024795532\n",
            "Moving on to next one...\n"
          ]
        },
        {
          "name": "stderr",
          "output_type": "stream",
          "text": [
            "100%|██████████| 10/10 [02:24<00:00, 14.42s/it]\n"
          ]
        },
        {
          "name": "stdout",
          "output_type": "stream",
          "text": [
            "beta: 0.9, width: 512, narrow: 64\n",
            "Val Loss: 0.08403270945884288, Val Accuracy: 0.9812999963760376\n",
            "Moving on to next one...\n"
          ]
        },
        {
          "name": "stderr",
          "output_type": "stream",
          "text": [
            "100%|██████████| 10/10 [09:24<00:00, 56.47s/it]\n"
          ]
        },
        {
          "name": "stdout",
          "output_type": "stream",
          "text": [
            "beta: 0.85, width: 4096, narrow: 512\n",
            "Val Loss: 0.09009105350822211, Val Accuracy: 0.9825999736785889\n",
            "Moving on to next one...\n"
          ]
        },
        {
          "name": "stderr",
          "output_type": "stream",
          "text": [
            "100%|██████████| 10/10 [08:02<00:00, 48.23s/it]\n"
          ]
        },
        {
          "name": "stdout",
          "output_type": "stream",
          "text": [
            "beta: 0.85, width: 4096, narrow: 256\n",
            "Val Loss: 0.08748898923397064, Val Accuracy: 0.9836000204086304\n",
            "Moving on to next one...\n"
          ]
        },
        {
          "name": "stderr",
          "output_type": "stream",
          "text": [
            "100%|██████████| 10/10 [07:09<00:00, 42.98s/it]\n"
          ]
        },
        {
          "name": "stdout",
          "output_type": "stream",
          "text": [
            "beta: 0.85, width: 4096, narrow: 128\n",
            "Val Loss: 0.09037665404379368, Val Accuracy: 0.9818999767303467\n",
            "Moving on to next one...\n"
          ]
        },
        {
          "name": "stderr",
          "output_type": "stream",
          "text": [
            "100%|██████████| 10/10 [06:45<00:00, 40.58s/it]\n"
          ]
        },
        {
          "name": "stdout",
          "output_type": "stream",
          "text": [
            "beta: 0.85, width: 4096, narrow: 64\n",
            "Val Loss: 0.09163711076602339, Val Accuracy: 0.980400025844574\n",
            "Moving on to next one...\n"
          ]
        },
        {
          "name": "stderr",
          "output_type": "stream",
          "text": [
            " 10%|█         | 1/10 [00:34<05:07, 34.15s/it]"
          ]
        }
      ],
      "source": [
        "betas = [0.95,0.9,0.85, 0.75]\n",
        "widths = [4096, 2048, 1024, 512]\n",
        "narrow_widths = [512, 256, 128, 64]\n",
        "# batch norm\n",
        "epochs = 10\n",
        "for beta in betas:\n",
        "  for width in widths:\n",
        "    for narrow in narrow_widths:\n",
        "      model_1_4 = batch_norm(width=width, narrow_width=narrow)\n",
        "      cross_entropy = torch.nn.CrossEntropyLoss()\n",
        "      momentum_opt = torch.optim.SGD(\n",
        "          model_1_4.parameters(), lr=.001, momentum=beta)\n",
        "      train_loss, train_acc, test_loss, test_acc, approx_tr_loss, approx_tr_acc = train(\n",
        "          train_dataloader, test_dataloader, model_1_4, cross_entropy, momentum_opt, epochs,\n",
        "            eval_train_stats=False,\n",
        "        eval_test_stats=False,\n",
        "      )\n",
        "      test_loss, test_acc = evaluate_model(test_dataloader, model_1_4, cross_entropy)\n",
        "      print(f'beta: {beta}, width: {width}, narrow: {narrow}')\n",
        "      print(f'Val Loss: {test_loss}, Val Accuracy: {test_acc}')\n",
        "      print(f'Moving on to next one...')\n",
        "\n",
        "\n"
      ]
    }
  ],
  "metadata": {
    "accelerator": "GPU",
    "colab": {
      "provenance": [],
      "gpuType": "T4"
    },
    "kernelspec": {
      "display_name": "Python 3",
      "name": "python3"
    },
    "language_info": {
      "name": "python"
    }
  },
  "nbformat": 4,
  "nbformat_minor": 0
}